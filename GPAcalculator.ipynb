{
 "cells": [
  {
   "cell_type": "code",
   "execution_count": 13,
   "id": "8153fbbe-68b8-438a-94f4-d0764a4ba6cf",
   "metadata": {},
   "outputs": [
    {
     "name": "stdin",
     "output_type": "stream",
     "text": [
      "Enter the student's last name( or 'ZZZ' to quit):  colastin\n"
     ]
    },
    {
     "ename": "NameError",
     "evalue": "name 'GPA' is not defined",
     "output_type": "error",
     "traceback": [
      "\u001b[1;31m---------------------------------------------------------------------------\u001b[0m",
      "\u001b[1;31mNameError\u001b[0m                                 Traceback (most recent call last)",
      "Cell \u001b[1;32mIn[13], line 19\u001b[0m\n\u001b[0;32m     17\u001b[0m     \u001b[38;5;28;01mif\u001b[39;00m GPA \u001b[38;5;241m>\u001b[39m\u001b[38;5;241m=\u001b[39m \u001b[38;5;241m3.5\u001b[39m:\n\u001b[0;32m     18\u001b[0m        \u001b[38;5;28mprint\u001b[39m (\u001b[38;5;124mf\u001b[39m\u001b[38;5;124m'\u001b[39m\u001b[38;5;132;01m{\u001b[39;00mfirst_name\u001b[38;5;132;01m}\u001b[39;00m\u001b[38;5;124m \u001b[39m\u001b[38;5;132;01m{\u001b[39;00mlast_name\u001b[38;5;132;01m}\u001b[39;00m\u001b[38;5;124m has made the Dean\u001b[39m\u001b[38;5;130;01m\\'\u001b[39;00m\u001b[38;5;124ms List.\u001b[39m\u001b[38;5;124m'\u001b[39m)\n\u001b[1;32m---> 19\u001b[0m \u001b[38;5;28;01melif\u001b[39;00m GPA \u001b[38;5;241m>\u001b[39m\u001b[38;5;241m=\u001b[39m \u001b[38;5;241m3.25\u001b[39m:\n\u001b[0;32m     20\u001b[0m    \u001b[38;5;28mprint\u001b[39m (\u001b[38;5;124mf\u001b[39m\u001b[38;5;124m'\u001b[39m\u001b[38;5;132;01m{\u001b[39;00mfirst_name\u001b[38;5;132;01m}\u001b[39;00m\u001b[38;5;124m \u001b[39m\u001b[38;5;132;01m{\u001b[39;00mlast_name\u001b[38;5;132;01m}\u001b[39;00m\u001b[38;5;124m has made the Honor Roll.\u001b[39m\u001b[38;5;124m'\u001b[39m)\n",
      "\u001b[1;31mNameError\u001b[0m: name 'GPA' is not defined"
     ]
    }
   ],
   "source": [
    "# Kenley Jean Charles\n",
    "# GPA calculator\n",
    "#This program will accept student names and GPAs and test if the student qualifies for either the Dean's List or the Honor Roll\n",
    "while True:\n",
    "    last_name = input(\"Enter the student\\'s last name( or 'ZZZ' to quit): \").strip()\n",
    "    if last_name == 'ZZZ':\n",
    "        break\n",
    "        first_name = input('Enter the student\\'s first name: ')\n",
    "        GPA = float(input(\"Enter the student'\\s GPA: \"))\n",
    "        # Add student information to lists \n",
    "        student_names.append((first_name, last_name))\n",
    "        student_gpas.append(gpa)\n",
    "        # Test and print qualifications \n",
    "        for i in range (len(student_names)):\n",
    "            first_name, last_name = student_names[i]\n",
    "            GPA = student_gpas[i]\n",
    "        if GPA >= 3.5:\n",
    "           print (f'{first_name} {last_name} has made the Dean\\'s List.')\n",
    "    elif GPA >= 3.25:\n",
    "       print (f'{first_name} {last_name} has made the Honor Roll.')"
   ]
  },
  {
   "cell_type": "code",
   "execution_count": null,
   "id": "a9073290-fda7-4c0f-af2b-5a61b68cbb8a",
   "metadata": {},
   "outputs": [],
   "source": []
  }
 ],
 "metadata": {
  "kernelspec": {
   "display_name": "Python 3 (ipykernel)",
   "language": "python",
   "name": "python3"
  },
  "language_info": {
   "codemirror_mode": {
    "name": "ipython",
    "version": 3
   },
   "file_extension": ".py",
   "mimetype": "text/x-python",
   "name": "python",
   "nbconvert_exporter": "python",
   "pygments_lexer": "ipython3",
   "version": "3.11.7"
  }
 },
 "nbformat": 4,
 "nbformat_minor": 5
}
